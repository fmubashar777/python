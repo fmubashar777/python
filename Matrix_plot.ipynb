{
 "cells": [
  {
   "cell_type": "code",
   "execution_count": 1,
   "id": "666b1283",
   "metadata": {},
   "outputs": [
    {
     "name": "stderr",
     "output_type": "stream",
     "text": [
      "UsageError: Line magic function `%matlpotlib` not found.\n"
     ]
    }
   ],
   "source": [
    "import seaborn as sns\n",
    "%matlpotlib inline"
   ]
  },
  {
   "cell_type": "code",
   "execution_count": 5,
   "id": "4f71987a",
   "metadata": {},
   "outputs": [],
   "source": [
    "flight =sns.load_dataset('flights')"
   ]
  },
  {
   "cell_type": "code",
   "execution_count": 6,
   "id": "e3810d4d",
   "metadata": {},
   "outputs": [
    {
     "data": {
      "text/html": [
       "<div>\n",
       "<style scoped>\n",
       "    .dataframe tbody tr th:only-of-type {\n",
       "        vertical-align: middle;\n",
       "    }\n",
       "\n",
       "    .dataframe tbody tr th {\n",
       "        vertical-align: top;\n",
       "    }\n",
       "\n",
       "    .dataframe thead th {\n",
       "        text-align: right;\n",
       "    }\n",
       "</style>\n",
       "<table border=\"1\" class=\"dataframe\">\n",
       "  <thead>\n",
       "    <tr style=\"text-align: right;\">\n",
       "      <th></th>\n",
       "      <th>year</th>\n",
       "      <th>month</th>\n",
       "      <th>passengers</th>\n",
       "    </tr>\n",
       "  </thead>\n",
       "  <tbody>\n",
       "    <tr>\n",
       "      <th>0</th>\n",
       "      <td>1949</td>\n",
       "      <td>Jan</td>\n",
       "      <td>112</td>\n",
       "    </tr>\n",
       "    <tr>\n",
       "      <th>1</th>\n",
       "      <td>1949</td>\n",
       "      <td>Feb</td>\n",
       "      <td>118</td>\n",
       "    </tr>\n",
       "    <tr>\n",
       "      <th>2</th>\n",
       "      <td>1949</td>\n",
       "      <td>Mar</td>\n",
       "      <td>132</td>\n",
       "    </tr>\n",
       "    <tr>\n",
       "      <th>3</th>\n",
       "      <td>1949</td>\n",
       "      <td>Apr</td>\n",
       "      <td>129</td>\n",
       "    </tr>\n",
       "    <tr>\n",
       "      <th>4</th>\n",
       "      <td>1949</td>\n",
       "      <td>May</td>\n",
       "      <td>121</td>\n",
       "    </tr>\n",
       "  </tbody>\n",
       "</table>\n",
       "</div>"
      ],
      "text/plain": [
       "   year month  passengers\n",
       "0  1949   Jan         112\n",
       "1  1949   Feb         118\n",
       "2  1949   Mar         132\n",
       "3  1949   Apr         129\n",
       "4  1949   May         121"
      ]
     },
     "execution_count": 6,
     "metadata": {},
     "output_type": "execute_result"
    }
   ],
   "source": [
    "flight.head()"
   ]
  },
  {
   "cell_type": "code",
   "execution_count": 7,
   "id": "fab5b9ad",
   "metadata": {},
   "outputs": [],
   "source": [
    "tips=sns.load_dataset('tips')"
   ]
  },
  {
   "cell_type": "code",
   "execution_count": 8,
   "id": "07479ec1",
   "metadata": {},
   "outputs": [
    {
     "data": {
      "text/html": [
       "<div>\n",
       "<style scoped>\n",
       "    .dataframe tbody tr th:only-of-type {\n",
       "        vertical-align: middle;\n",
       "    }\n",
       "\n",
       "    .dataframe tbody tr th {\n",
       "        vertical-align: top;\n",
       "    }\n",
       "\n",
       "    .dataframe thead th {\n",
       "        text-align: right;\n",
       "    }\n",
       "</style>\n",
       "<table border=\"1\" class=\"dataframe\">\n",
       "  <thead>\n",
       "    <tr style=\"text-align: right;\">\n",
       "      <th></th>\n",
       "      <th>total_bill</th>\n",
       "      <th>tip</th>\n",
       "      <th>sex</th>\n",
       "      <th>smoker</th>\n",
       "      <th>day</th>\n",
       "      <th>time</th>\n",
       "      <th>size</th>\n",
       "    </tr>\n",
       "  </thead>\n",
       "  <tbody>\n",
       "    <tr>\n",
       "      <th>0</th>\n",
       "      <td>16.99</td>\n",
       "      <td>1.01</td>\n",
       "      <td>Female</td>\n",
       "      <td>No</td>\n",
       "      <td>Sun</td>\n",
       "      <td>Dinner</td>\n",
       "      <td>2</td>\n",
       "    </tr>\n",
       "    <tr>\n",
       "      <th>1</th>\n",
       "      <td>10.34</td>\n",
       "      <td>1.66</td>\n",
       "      <td>Male</td>\n",
       "      <td>No</td>\n",
       "      <td>Sun</td>\n",
       "      <td>Dinner</td>\n",
       "      <td>3</td>\n",
       "    </tr>\n",
       "    <tr>\n",
       "      <th>2</th>\n",
       "      <td>21.01</td>\n",
       "      <td>3.50</td>\n",
       "      <td>Male</td>\n",
       "      <td>No</td>\n",
       "      <td>Sun</td>\n",
       "      <td>Dinner</td>\n",
       "      <td>3</td>\n",
       "    </tr>\n",
       "    <tr>\n",
       "      <th>3</th>\n",
       "      <td>23.68</td>\n",
       "      <td>3.31</td>\n",
       "      <td>Male</td>\n",
       "      <td>No</td>\n",
       "      <td>Sun</td>\n",
       "      <td>Dinner</td>\n",
       "      <td>2</td>\n",
       "    </tr>\n",
       "    <tr>\n",
       "      <th>4</th>\n",
       "      <td>24.59</td>\n",
       "      <td>3.61</td>\n",
       "      <td>Female</td>\n",
       "      <td>No</td>\n",
       "      <td>Sun</td>\n",
       "      <td>Dinner</td>\n",
       "      <td>4</td>\n",
       "    </tr>\n",
       "  </tbody>\n",
       "</table>\n",
       "</div>"
      ],
      "text/plain": [
       "   total_bill   tip     sex smoker  day    time  size\n",
       "0       16.99  1.01  Female     No  Sun  Dinner     2\n",
       "1       10.34  1.66    Male     No  Sun  Dinner     3\n",
       "2       21.01  3.50    Male     No  Sun  Dinner     3\n",
       "3       23.68  3.31    Male     No  Sun  Dinner     2\n",
       "4       24.59  3.61  Female     No  Sun  Dinner     4"
      ]
     },
     "execution_count": 8,
     "metadata": {},
     "output_type": "execute_result"
    }
   ],
   "source": [
    "tips.head()"
   ]
  },
  {
   "cell_type": "code",
   "execution_count": 9,
   "id": "e8f4dacf",
   "metadata": {},
   "outputs": [
    {
     "data": {
      "text/html": [
       "<div>\n",
       "<style scoped>\n",
       "    .dataframe tbody tr th:only-of-type {\n",
       "        vertical-align: middle;\n",
       "    }\n",
       "\n",
       "    .dataframe tbody tr th {\n",
       "        vertical-align: top;\n",
       "    }\n",
       "\n",
       "    .dataframe thead th {\n",
       "        text-align: right;\n",
       "    }\n",
       "</style>\n",
       "<table border=\"1\" class=\"dataframe\">\n",
       "  <thead>\n",
       "    <tr style=\"text-align: right;\">\n",
       "      <th></th>\n",
       "      <th>total_bill</th>\n",
       "      <th>tip</th>\n",
       "      <th>size</th>\n",
       "    </tr>\n",
       "  </thead>\n",
       "  <tbody>\n",
       "    <tr>\n",
       "      <th>total_bill</th>\n",
       "      <td>1.000000</td>\n",
       "      <td>0.675734</td>\n",
       "      <td>0.598315</td>\n",
       "    </tr>\n",
       "    <tr>\n",
       "      <th>tip</th>\n",
       "      <td>0.675734</td>\n",
       "      <td>1.000000</td>\n",
       "      <td>0.489299</td>\n",
       "    </tr>\n",
       "    <tr>\n",
       "      <th>size</th>\n",
       "      <td>0.598315</td>\n",
       "      <td>0.489299</td>\n",
       "      <td>1.000000</td>\n",
       "    </tr>\n",
       "  </tbody>\n",
       "</table>\n",
       "</div>"
      ],
      "text/plain": [
       "            total_bill       tip      size\n",
       "total_bill    1.000000  0.675734  0.598315\n",
       "tip           0.675734  1.000000  0.489299\n",
       "size          0.598315  0.489299  1.000000"
      ]
     },
     "execution_count": 9,
     "metadata": {},
     "output_type": "execute_result"
    }
   ],
   "source": [
    "tips.corr()"
   ]
  },
  {
   "cell_type": "code",
   "execution_count": 12,
   "id": "c26233c4",
   "metadata": {},
   "outputs": [
    {
     "data": {
      "text/plain": [
       "<AxesSubplot:>"
      ]
     },
     "execution_count": 12,
     "metadata": {},
     "output_type": "execute_result"
    },
    {
     "data": {
      "image/png": "[encoded data removed]",
      "text/plain": [
       "<Figure size 432x288 with 2 Axes>"
      ]
     },
     "metadata": {
      "needs_background": "light"
     },
     "output_type": "display_data"
    }
   ],
   "source": [
    "sns.heatmap(tips.corr(), cmap='coolwarm', annot=True)"
   ]
  },
  {
   "cell_type": "code",
   "execution_count": 16,
   "id": "fb5e9b31",
   "metadata": {},
   "outputs": [],
   "source": [
    "fp =flight.pivot_table(values='passengers',index='month',columns='year')"
   ]
  },
  {
   "cell_type": "code",
   "execution_count": 17,
   "id": "d799880f",
   "metadata": {},
   "outputs": [
    {
     "data": {
      "text/html": [
       "<div>\n",
       "<style scoped>\n",
       "    .dataframe tbody tr th:only-of-type {\n",
       "        vertical-align: middle;\n",
       "    }\n",
       "\n",
       "    .dataframe tbody tr th {\n",
       "        vertical-align: top;\n",
       "    }\n",
       "\n",
       "    .dataframe thead th {\n",
       "        text-align: right;\n",
       "    }\n",
       "</style>\n",
       "<table border=\"1\" class=\"dataframe\">\n",
       "  <thead>\n",
       "    <tr style=\"text-align: right;\">\n",
       "      <th>year</th>\n",
       "      <th>1949</th>\n",
       "      <th>1950</th>\n",
       "      <th>1951</th>\n",
       "      <th>1952</th>\n",
       "      <th>1953</th>\n",
       "      <th>1954</th>\n",
       "      <th>1955</th>\n",
       "      <th>1956</th>\n",
       "      <th>1957</th>\n",
       "      <th>1958</th>\n",
       "      <th>1959</th>\n",
       "      <th>1960</th>\n",
       "    </tr>\n",
       "    <tr>\n",
       "      <th>month</th>\n",
       "      <th></th>\n",
       "      <th></th>\n",
       "      <th></th>\n",
       "      <th></th>\n",
       "      <th></th>\n",
       "      <th></th>\n",
       "      <th></th>\n",
       "      <th></th>\n",
       "      <th></th>\n",
       "      <th></th>\n",
       "      <th></th>\n",
       "      <th></th>\n",
       "    </tr>\n",
       "  </thead>\n",
       "  <tbody>\n",
       "    <tr>\n",
       "      <th>Jan</th>\n",
       "      <td>112</td>\n",
       "      <td>115</td>\n",
       "      <td>145</td>\n",
       "      <td>171</td>\n",
       "      <td>196</td>\n",
       "      <td>204</td>\n",
       "      <td>242</td>\n",
       "      <td>284</td>\n",
       "      <td>315</td>\n",
       "      <td>340</td>\n",
       "      <td>360</td>\n",
       "      <td>417</td>\n",
       "    </tr>\n",
       "    <tr>\n",
       "      <th>Feb</th>\n",
       "      <td>118</td>\n",
       "      <td>126</td>\n",
       "      <td>150</td>\n",
       "      <td>180</td>\n",
       "      <td>196</td>\n",
       "      <td>188</td>\n",
       "      <td>233</td>\n",
       "      <td>277</td>\n",
       "      <td>301</td>\n",
       "      <td>318</td>\n",
       "      <td>342</td>\n",
       "      <td>391</td>\n",
       "    </tr>\n",
       "    <tr>\n",
       "      <th>Mar</th>\n",
       "      <td>132</td>\n",
       "      <td>141</td>\n",
       "      <td>178</td>\n",
       "      <td>193</td>\n",
       "      <td>236</td>\n",
       "      <td>235</td>\n",
       "      <td>267</td>\n",
       "      <td>317</td>\n",
       "      <td>356</td>\n",
       "      <td>362</td>\n",
       "      <td>406</td>\n",
       "      <td>419</td>\n",
       "    </tr>\n",
       "    <tr>\n",
       "      <th>Apr</th>\n",
       "      <td>129</td>\n",
       "      <td>135</td>\n",
       "      <td>163</td>\n",
       "      <td>181</td>\n",
       "      <td>235</td>\n",
       "      <td>227</td>\n",
       "      <td>269</td>\n",
       "      <td>313</td>\n",
       "      <td>348</td>\n",
       "      <td>348</td>\n",
       "      <td>396</td>\n",
       "      <td>461</td>\n",
       "    </tr>\n",
       "    <tr>\n",
       "      <th>May</th>\n",
       "      <td>121</td>\n",
       "      <td>125</td>\n",
       "      <td>172</td>\n",
       "      <td>183</td>\n",
       "      <td>229</td>\n",
       "      <td>234</td>\n",
       "      <td>270</td>\n",
       "      <td>318</td>\n",
       "      <td>355</td>\n",
       "      <td>363</td>\n",
       "      <td>420</td>\n",
       "      <td>472</td>\n",
       "    </tr>\n",
       "    <tr>\n",
       "      <th>Jun</th>\n",
       "      <td>135</td>\n",
       "      <td>149</td>\n",
       "      <td>178</td>\n",
       "      <td>218</td>\n",
       "      <td>243</td>\n",
       "      <td>264</td>\n",
       "      <td>315</td>\n",
       "      <td>374</td>\n",
       "      <td>422</td>\n",
       "      <td>435</td>\n",
       "      <td>472</td>\n",
       "      <td>535</td>\n",
       "    </tr>\n",
       "    <tr>\n",
       "      <th>Jul</th>\n",
       "      <td>148</td>\n",
       "      <td>170</td>\n",
       "      <td>199</td>\n",
       "      <td>230</td>\n",
       "      <td>264</td>\n",
       "      <td>302</td>\n",
       "      <td>364</td>\n",
       "      <td>413</td>\n",
       "      <td>465</td>\n",
       "      <td>491</td>\n",
       "      <td>548</td>\n",
       "      <td>622</td>\n",
       "    </tr>\n",
       "    <tr>\n",
       "      <th>Aug</th>\n",
       "      <td>148</td>\n",
       "      <td>170</td>\n",
       "      <td>199</td>\n",
       "      <td>242</td>\n",
       "      <td>272</td>\n",
       "      <td>293</td>\n",
       "      <td>347</td>\n",
       "      <td>405</td>\n",
       "      <td>467</td>\n",
       "      <td>505</td>\n",
       "      <td>559</td>\n",
       "      <td>606</td>\n",
       "    </tr>\n",
       "    <tr>\n",
       "      <th>Sep</th>\n",
       "      <td>136</td>\n",
       "      <td>158</td>\n",
       "      <td>184</td>\n",
       "      <td>209</td>\n",
       "      <td>237</td>\n",
       "      <td>259</td>\n",
       "      <td>312</td>\n",
       "      <td>355</td>\n",
       "      <td>404</td>\n",
       "      <td>404</td>\n",
       "      <td>463</td>\n",
       "      <td>508</td>\n",
       "    </tr>\n",
       "    <tr>\n",
       "      <th>Oct</th>\n",
       "      <td>119</td>\n",
       "      <td>133</td>\n",
       "      <td>162</td>\n",
       "      <td>191</td>\n",
       "      <td>211</td>\n",
       "      <td>229</td>\n",
       "      <td>274</td>\n",
       "      <td>306</td>\n",
       "      <td>347</td>\n",
       "      <td>359</td>\n",
       "      <td>407</td>\n",
       "      <td>461</td>\n",
       "    </tr>\n",
       "    <tr>\n",
       "      <th>Nov</th>\n",
       "      <td>104</td>\n",
       "      <td>114</td>\n",
       "      <td>146</td>\n",
       "      <td>172</td>\n",
       "      <td>180</td>\n",
       "      <td>203</td>\n",
       "      <td>237</td>\n",
       "      <td>271</td>\n",
       "      <td>305</td>\n",
       "      <td>310</td>\n",
       "      <td>362</td>\n",
       "      <td>390</td>\n",
       "    </tr>\n",
       "    <tr>\n",
       "      <th>Dec</th>\n",
       "      <td>118</td>\n",
       "      <td>140</td>\n",
       "      <td>166</td>\n",
       "      <td>194</td>\n",
       "      <td>201</td>\n",
       "      <td>229</td>\n",
       "      <td>278</td>\n",
       "      <td>306</td>\n",
       "      <td>336</td>\n",
       "      <td>337</td>\n",
       "      <td>405</td>\n",
       "      <td>432</td>\n",
       "    </tr>\n",
       "  </tbody>\n",
       "</table>\n",
       "</div>"
      ],
      "text/plain": [
       "year   1949  1950  1951  1952  1953  1954  1955  1956  1957  1958  1959  1960\n",
       "month                                                                        \n",
       "Jan     112   115   145   171   196   204   242   284   315   340   360   417\n",
       "Feb     118   126   150   180   196   188   233   277   301   318   342   391\n",
       "Mar     132   141   178   193   236   235   267   317   356   362   406   419\n",
       "Apr     129   135   163   181   235   227   269   313   348   348   396   461\n",
       "May     121   125   172   183   229   234   270   318   355   363   420   472\n",
       "Jun     135   149   178   218   243   264   315   374   422   435   472   535\n",
       "Jul     148   170   199   230   264   302   364   413   465   491   548   622\n",
       "Aug     148   170   199   242   272   293   347   405   467   505   559   606\n",
       "Sep     136   158   184   209   237   259   312   355   404   404   463   508\n",
       "Oct     119   133   162   191   211   229   274   306   347   359   407   461\n",
       "Nov     104   114   146   172   180   203   237   271   305   310   362   390\n",
       "Dec     118   140   166   194   201   229   278   306   336   337   405   432"
      ]
     },
     "execution_count": 17,
     "metadata": {},
     "output_type": "execute_result"
    }
   ],
   "source": [
    "fp"
   ]
  },
  {
   "cell_type": "code",
   "execution_count": 20,
   "id": "a481c6a8",
   "metadata": {},
   "outputs": [
    {
     "data": {
      "text/plain": [
       "<AxesSubplot:xlabel='year', ylabel='month'>"
      ]
     },
     "execution_count": 20,
     "metadata": {},
     "output_type": "execute_result"
    },
    {
     "data": {
      "image/png": "[encoded data removed]",
      "text/plain": [
       "<Figure size 432x288 with 2 Axes>"
      ]
     },
     "metadata": {
      "needs_background": "light"
     },
     "output_type": "display_data"
    }
   ],
   "source": [
    "sns.heatmap(fp,cmap='magma',linecolor='white')"
   ]
  },
  {
   "cell_type": "code",
   "execution_count": 21,
   "id": "3e170411",
   "metadata": {},
   "outputs": [
    {
     "data": {
      "text/plain": [
       "<seaborn.matrix.ClusterGrid at 0x145bdd1d60>"
      ]
     },
     "execution_count": 21,
     "metadata": {},
     "output_type": "execute_result"
    },
    {
     "data": {
      "image/png": "[encoded data removed]",
      "text/plain": [
       "<Figure size 720x720 with 4 Axes>"
      ]
     },
     "metadata": {
      "needs_background": "light"
     },
     "output_type": "display_data"
    }
   ],
   "source": [
    "sns.clustermap(fp)"
   ]
  },
  {
   "cell_type": "code",
   "execution_count": null,
   "id": "cf26898a",
   "metadata": {},
   "outputs": [],
   "source": []
  }
 ],
 "metadata": {
  "kernelspec": {
   "display_name": "Python 3 (ipykernel)",
   "language": "python",
   "name": "python3"
  },
  "language_info": {
   "codemirror_mode": {
    "name": "ipython",
    "version": 3
   },
   "file_extension": ".py",
   "mimetype": "text/x-python",
   "name": "python",
   "nbconvert_exporter": "python",
   "pygments_lexer": "ipython3",
   "version": "3.9.12"
  }
 },
 "nbformat": 4,
 "nbformat_minor": 5
}
